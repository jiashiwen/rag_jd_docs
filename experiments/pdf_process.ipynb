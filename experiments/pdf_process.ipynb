{
 "cells": [
  {
   "cell_type": "code",
   "execution_count": 6,
   "metadata": {},
   "outputs": [
    {
     "name": "stdout",
     "output_type": "stream",
     "text": [
      "Requirement already satisfied: pypdf in /root/aiprojects/rag_demo/.venv/lib/python3.10/site-packages (4.2.0)\n",
      "Requirement already satisfied: typing_extensions>=4.0 in /root/aiprojects/rag_demo/.venv/lib/python3.10/site-packages (from pypdf) (4.11.0)\n",
      "Note: you may need to restart the kernel to use updated packages.\n",
      "Requirement already satisfied: pdfminer in /root/aiprojects/rag_demo/.venv/lib/python3.10/site-packages (20191125)\n",
      "Requirement already satisfied: pycryptodome in /root/aiprojects/rag_demo/.venv/lib/python3.10/site-packages (from pdfminer) (3.20.0)\n",
      "Note: you may need to restart the kernel to use updated packages.\n",
      "Collecting PyMuPDF\n",
      "  Using cached PyMuPDF-1.24.4-cp310-none-manylinux2014_x86_64.whl.metadata (3.4 kB)\n",
      "Collecting PyMuPDFb==1.24.3 (from PyMuPDF)\n",
      "  Using cached PyMuPDFb-1.24.3-py3-none-manylinux2014_x86_64.manylinux_2_17_x86_64.whl.metadata (1.4 kB)\n",
      "Downloading PyMuPDF-1.24.4-cp310-none-manylinux2014_x86_64.whl (3.5 MB)\n",
      "\u001b[2K   \u001b[90m━━━━━━━━━━━━━━━━━━━━━━━━━━━━━━━━━━━━━━━━\u001b[0m \u001b[32m3.5/3.5 MB\u001b[0m \u001b[31m11.2 MB/s\u001b[0m eta \u001b[36m0:00:00\u001b[0m00:01\u001b[0m0:01\u001b[0m0m\n",
      "\u001b[?25hDownloading PyMuPDFb-1.24.3-py3-none-manylinux2014_x86_64.manylinux_2_17_x86_64.whl (15.8 MB)\n",
      "\u001b[2K   \u001b[90m━━━━━━━━━━━━━━━━━━━━━━━━━━━━━━━━━━━━━━━━\u001b[0m \u001b[32m15.8/15.8 MB\u001b[0m \u001b[31m22.9 MB/s\u001b[0m eta \u001b[36m0:00:00\u001b[0m00:01\u001b[0m00:01\u001b[0m\n",
      "\u001b[?25hInstalling collected packages: PyMuPDFb, PyMuPDF\n",
      "Successfully installed PyMuPDF-1.24.4 PyMuPDFb-1.24.3\n",
      "Note: you may need to restart the kernel to use updated packages.\n"
     ]
    }
   ],
   "source": [
    "\n",
    "import os\n",
    "os.environ[\"http_proxy\"] = \"http://127.0.0.1:1083\"\n",
    "os.environ[\"https_proxy\"] = \"http://127.0.0.1:1083\"\n",
    "%pip install pypdf\n",
    "%pip install pdfminer\n",
    "%pip install PyMuPDF\n"
   ]
  },
  {
   "cell_type": "code",
   "execution_count": 7,
   "metadata": {},
   "outputs": [
    {
     "name": "stdout",
     "output_type": "stream",
     "text": [
      "{'/Contents': [IndirectObject(5, 0, 140649244621552), IndirectObject(6, 0, 140649244621552)], '/MediaBox': [0, 0, 612, 792], '/Parent': IndirectObject(2, 0, 140649244621552), '/Resources': IndirectObject(7, 0, 140649244621552), '/Type': '/Page'}\n"
     ]
    }
   ],
   "source": [
    "from pypdf import PdfReader\n",
    "\n",
    "reader = PdfReader(\"/root/1706.03762.pdf\")\n",
    "number_of_pages = len(reader.pages)\n",
    "page = reader.pages[0]\n",
    "\n",
    "text = page.get_object().extract_text()\n",
    "print(page.get_object())\n",
    "\n",
    "# print(text)\n",
    "\n"
   ]
  },
  {
   "cell_type": "code",
   "execution_count": 8,
   "metadata": {},
   "outputs": [],
   "source": [
    "import fitz\n",
    "filename= \"/root/1706.03762.pdf\"\n",
    "doc = fitz.open(filename)\n",
    "\n",
    "print(doc.page_count())\n"
   ]
  }
 ],
 "metadata": {
  "kernelspec": {
   "display_name": ".venv",
   "language": "python",
   "name": "python3"
  },
  "language_info": {
   "codemirror_mode": {
    "name": "ipython",
    "version": 3
   },
   "file_extension": ".py",
   "mimetype": "text/x-python",
   "name": "python",
   "nbconvert_exporter": "python",
   "pygments_lexer": "ipython3",
   "version": "3.10.12"
  }
 },
 "nbformat": 4,
 "nbformat_minor": 2
}
