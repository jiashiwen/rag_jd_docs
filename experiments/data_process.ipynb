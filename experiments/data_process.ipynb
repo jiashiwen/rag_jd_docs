{
 "cells": [
  {
   "cell_type": "markdown",
   "metadata": {},
   "source": [
    "# 数据处理"
   ]
  },
  {
   "cell_type": "code",
   "execution_count": 11,
   "metadata": {},
   "outputs": [
    {
     "name": "stdout",
     "output_type": "stream",
     "text": [
      "Requirement already satisfied: langchain_community in /root/aiprojects/rag_demo/.venv/lib/python3.10/site-packages (0.0.38)\n",
      "Requirement already satisfied: PyYAML>=5.3 in /root/aiprojects/rag_demo/.venv/lib/python3.10/site-packages (from langchain_community) (6.0.1)\n",
      "Requirement already satisfied: SQLAlchemy<3,>=1.4 in /root/aiprojects/rag_demo/.venv/lib/python3.10/site-packages (from langchain_community) (2.0.30)\n",
      "Requirement already satisfied: aiohttp<4.0.0,>=3.8.3 in /root/aiprojects/rag_demo/.venv/lib/python3.10/site-packages (from langchain_community) (3.9.5)\n",
      "Requirement already satisfied: dataclasses-json<0.7,>=0.5.7 in /root/aiprojects/rag_demo/.venv/lib/python3.10/site-packages (from langchain_community) (0.6.5)\n",
      "Requirement already satisfied: langchain-core<0.2.0,>=0.1.52 in /root/aiprojects/rag_demo/.venv/lib/python3.10/site-packages (from langchain_community) (0.1.52)\n",
      "Requirement already satisfied: langsmith<0.2.0,>=0.1.0 in /root/aiprojects/rag_demo/.venv/lib/python3.10/site-packages (from langchain_community) (0.1.56)\n",
      "Requirement already satisfied: numpy<2,>=1 in /root/aiprojects/rag_demo/.venv/lib/python3.10/site-packages (from langchain_community) (1.26.4)\n",
      "Requirement already satisfied: requests<3,>=2 in /root/aiprojects/rag_demo/.venv/lib/python3.10/site-packages (from langchain_community) (2.31.0)\n",
      "Requirement already satisfied: tenacity<9.0.0,>=8.1.0 in /root/aiprojects/rag_demo/.venv/lib/python3.10/site-packages (from langchain_community) (8.3.0)\n",
      "Requirement already satisfied: aiosignal>=1.1.2 in /root/aiprojects/rag_demo/.venv/lib/python3.10/site-packages (from aiohttp<4.0.0,>=3.8.3->langchain_community) (1.3.1)\n",
      "Requirement already satisfied: attrs>=17.3.0 in /root/aiprojects/rag_demo/.venv/lib/python3.10/site-packages (from aiohttp<4.0.0,>=3.8.3->langchain_community) (23.2.0)\n",
      "Requirement already satisfied: frozenlist>=1.1.1 in /root/aiprojects/rag_demo/.venv/lib/python3.10/site-packages (from aiohttp<4.0.0,>=3.8.3->langchain_community) (1.4.1)\n",
      "Requirement already satisfied: multidict<7.0,>=4.5 in /root/aiprojects/rag_demo/.venv/lib/python3.10/site-packages (from aiohttp<4.0.0,>=3.8.3->langchain_community) (6.0.5)\n",
      "Requirement already satisfied: yarl<2.0,>=1.0 in /root/aiprojects/rag_demo/.venv/lib/python3.10/site-packages (from aiohttp<4.0.0,>=3.8.3->langchain_community) (1.9.4)\n",
      "Requirement already satisfied: async-timeout<5.0,>=4.0 in /root/aiprojects/rag_demo/.venv/lib/python3.10/site-packages (from aiohttp<4.0.0,>=3.8.3->langchain_community) (4.0.3)\n",
      "Requirement already satisfied: marshmallow<4.0.0,>=3.18.0 in /root/aiprojects/rag_demo/.venv/lib/python3.10/site-packages (from dataclasses-json<0.7,>=0.5.7->langchain_community) (3.21.2)\n",
      "Requirement already satisfied: typing-inspect<1,>=0.4.0 in /root/aiprojects/rag_demo/.venv/lib/python3.10/site-packages (from dataclasses-json<0.7,>=0.5.7->langchain_community) (0.9.0)\n",
      "Requirement already satisfied: jsonpatch<2.0,>=1.33 in /root/aiprojects/rag_demo/.venv/lib/python3.10/site-packages (from langchain-core<0.2.0,>=0.1.52->langchain_community) (1.33)\n",
      "Requirement already satisfied: packaging<24.0,>=23.2 in /root/aiprojects/rag_demo/.venv/lib/python3.10/site-packages (from langchain-core<0.2.0,>=0.1.52->langchain_community) (23.2)\n",
      "Requirement already satisfied: pydantic<3,>=1 in /root/aiprojects/rag_demo/.venv/lib/python3.10/site-packages (from langchain-core<0.2.0,>=0.1.52->langchain_community) (2.7.1)\n",
      "Requirement already satisfied: orjson<4.0.0,>=3.9.14 in /root/aiprojects/rag_demo/.venv/lib/python3.10/site-packages (from langsmith<0.2.0,>=0.1.0->langchain_community) (3.10.3)\n",
      "Requirement already satisfied: charset-normalizer<4,>=2 in /root/aiprojects/rag_demo/.venv/lib/python3.10/site-packages (from requests<3,>=2->langchain_community) (3.3.2)\n",
      "Requirement already satisfied: idna<4,>=2.5 in /root/aiprojects/rag_demo/.venv/lib/python3.10/site-packages (from requests<3,>=2->langchain_community) (3.7)\n",
      "Requirement already satisfied: urllib3<3,>=1.21.1 in /root/aiprojects/rag_demo/.venv/lib/python3.10/site-packages (from requests<3,>=2->langchain_community) (2.2.1)\n",
      "Requirement already satisfied: certifi>=2017.4.17 in /root/aiprojects/rag_demo/.venv/lib/python3.10/site-packages (from requests<3,>=2->langchain_community) (2024.2.2)\n",
      "Requirement already satisfied: typing-extensions>=4.6.0 in /root/aiprojects/rag_demo/.venv/lib/python3.10/site-packages (from SQLAlchemy<3,>=1.4->langchain_community) (4.11.0)\n",
      "Requirement already satisfied: greenlet!=0.4.17 in /root/aiprojects/rag_demo/.venv/lib/python3.10/site-packages (from SQLAlchemy<3,>=1.4->langchain_community) (3.0.3)\n",
      "Requirement already satisfied: jsonpointer>=1.9 in /root/aiprojects/rag_demo/.venv/lib/python3.10/site-packages (from jsonpatch<2.0,>=1.33->langchain-core<0.2.0,>=0.1.52->langchain_community) (2.4)\n",
      "Requirement already satisfied: annotated-types>=0.4.0 in /root/aiprojects/rag_demo/.venv/lib/python3.10/site-packages (from pydantic<3,>=1->langchain-core<0.2.0,>=0.1.52->langchain_community) (0.6.0)\n",
      "Requirement already satisfied: pydantic-core==2.18.2 in /root/aiprojects/rag_demo/.venv/lib/python3.10/site-packages (from pydantic<3,>=1->langchain-core<0.2.0,>=0.1.52->langchain_community) (2.18.2)\n",
      "Requirement already satisfied: mypy-extensions>=0.3.0 in /root/aiprojects/rag_demo/.venv/lib/python3.10/site-packages (from typing-inspect<1,>=0.4.0->dataclasses-json<0.7,>=0.5.7->langchain_community) (1.0.0)\n",
      "Requirement already satisfied: langchain in /root/aiprojects/rag_demo/.venv/lib/python3.10/site-packages (0.1.19)\n",
      "Requirement already satisfied: PyYAML>=5.3 in /root/aiprojects/rag_demo/.venv/lib/python3.10/site-packages (from langchain) (6.0.1)\n",
      "Requirement already satisfied: SQLAlchemy<3,>=1.4 in /root/aiprojects/rag_demo/.venv/lib/python3.10/site-packages (from langchain) (2.0.30)\n",
      "Requirement already satisfied: aiohttp<4.0.0,>=3.8.3 in /root/aiprojects/rag_demo/.venv/lib/python3.10/site-packages (from langchain) (3.9.5)\n",
      "Requirement already satisfied: async-timeout<5.0.0,>=4.0.0 in /root/aiprojects/rag_demo/.venv/lib/python3.10/site-packages (from langchain) (4.0.3)\n",
      "Requirement already satisfied: dataclasses-json<0.7,>=0.5.7 in /root/aiprojects/rag_demo/.venv/lib/python3.10/site-packages (from langchain) (0.6.5)\n",
      "Requirement already satisfied: langchain-community<0.1,>=0.0.38 in /root/aiprojects/rag_demo/.venv/lib/python3.10/site-packages (from langchain) (0.0.38)\n",
      "Requirement already satisfied: langchain-core<0.2.0,>=0.1.52 in /root/aiprojects/rag_demo/.venv/lib/python3.10/site-packages (from langchain) (0.1.52)\n",
      "Requirement already satisfied: langchain-text-splitters<0.1,>=0.0.1 in /root/aiprojects/rag_demo/.venv/lib/python3.10/site-packages (from langchain) (0.0.1)\n",
      "Requirement already satisfied: langsmith<0.2.0,>=0.1.17 in /root/aiprojects/rag_demo/.venv/lib/python3.10/site-packages (from langchain) (0.1.56)\n",
      "Requirement already satisfied: numpy<2,>=1 in /root/aiprojects/rag_demo/.venv/lib/python3.10/site-packages (from langchain) (1.26.4)\n",
      "Requirement already satisfied: pydantic<3,>=1 in /root/aiprojects/rag_demo/.venv/lib/python3.10/site-packages (from langchain) (2.7.1)\n",
      "Requirement already satisfied: requests<3,>=2 in /root/aiprojects/rag_demo/.venv/lib/python3.10/site-packages (from langchain) (2.31.0)\n",
      "Requirement already satisfied: tenacity<9.0.0,>=8.1.0 in /root/aiprojects/rag_demo/.venv/lib/python3.10/site-packages (from langchain) (8.3.0)\n",
      "Requirement already satisfied: aiosignal>=1.1.2 in /root/aiprojects/rag_demo/.venv/lib/python3.10/site-packages (from aiohttp<4.0.0,>=3.8.3->langchain) (1.3.1)\n",
      "Requirement already satisfied: attrs>=17.3.0 in /root/aiprojects/rag_demo/.venv/lib/python3.10/site-packages (from aiohttp<4.0.0,>=3.8.3->langchain) (23.2.0)\n",
      "Requirement already satisfied: frozenlist>=1.1.1 in /root/aiprojects/rag_demo/.venv/lib/python3.10/site-packages (from aiohttp<4.0.0,>=3.8.3->langchain) (1.4.1)\n",
      "Requirement already satisfied: multidict<7.0,>=4.5 in /root/aiprojects/rag_demo/.venv/lib/python3.10/site-packages (from aiohttp<4.0.0,>=3.8.3->langchain) (6.0.5)\n",
      "Requirement already satisfied: yarl<2.0,>=1.0 in /root/aiprojects/rag_demo/.venv/lib/python3.10/site-packages (from aiohttp<4.0.0,>=3.8.3->langchain) (1.9.4)\n",
      "Requirement already satisfied: marshmallow<4.0.0,>=3.18.0 in /root/aiprojects/rag_demo/.venv/lib/python3.10/site-packages (from dataclasses-json<0.7,>=0.5.7->langchain) (3.21.2)\n",
      "Requirement already satisfied: typing-inspect<1,>=0.4.0 in /root/aiprojects/rag_demo/.venv/lib/python3.10/site-packages (from dataclasses-json<0.7,>=0.5.7->langchain) (0.9.0)\n",
      "Requirement already satisfied: jsonpatch<2.0,>=1.33 in /root/aiprojects/rag_demo/.venv/lib/python3.10/site-packages (from langchain-core<0.2.0,>=0.1.52->langchain) (1.33)\n",
      "Requirement already satisfied: packaging<24.0,>=23.2 in /root/aiprojects/rag_demo/.venv/lib/python3.10/site-packages (from langchain-core<0.2.0,>=0.1.52->langchain) (23.2)\n",
      "Requirement already satisfied: orjson<4.0.0,>=3.9.14 in /root/aiprojects/rag_demo/.venv/lib/python3.10/site-packages (from langsmith<0.2.0,>=0.1.17->langchain) (3.10.3)\n",
      "Requirement already satisfied: annotated-types>=0.4.0 in /root/aiprojects/rag_demo/.venv/lib/python3.10/site-packages (from pydantic<3,>=1->langchain) (0.6.0)\n",
      "Requirement already satisfied: pydantic-core==2.18.2 in /root/aiprojects/rag_demo/.venv/lib/python3.10/site-packages (from pydantic<3,>=1->langchain) (2.18.2)\n",
      "Requirement already satisfied: typing-extensions>=4.6.1 in /root/aiprojects/rag_demo/.venv/lib/python3.10/site-packages (from pydantic<3,>=1->langchain) (4.11.0)\n",
      "Requirement already satisfied: charset-normalizer<4,>=2 in /root/aiprojects/rag_demo/.venv/lib/python3.10/site-packages (from requests<3,>=2->langchain) (3.3.2)\n",
      "Requirement already satisfied: idna<4,>=2.5 in /root/aiprojects/rag_demo/.venv/lib/python3.10/site-packages (from requests<3,>=2->langchain) (3.7)\n",
      "Requirement already satisfied: urllib3<3,>=1.21.1 in /root/aiprojects/rag_demo/.venv/lib/python3.10/site-packages (from requests<3,>=2->langchain) (2.2.1)\n",
      "Requirement already satisfied: certifi>=2017.4.17 in /root/aiprojects/rag_demo/.venv/lib/python3.10/site-packages (from requests<3,>=2->langchain) (2024.2.2)\n",
      "Requirement already satisfied: greenlet!=0.4.17 in /root/aiprojects/rag_demo/.venv/lib/python3.10/site-packages (from SQLAlchemy<3,>=1.4->langchain) (3.0.3)\n",
      "Requirement already satisfied: jsonpointer>=1.9 in /root/aiprojects/rag_demo/.venv/lib/python3.10/site-packages (from jsonpatch<2.0,>=1.33->langchain-core<0.2.0,>=0.1.52->langchain) (2.4)\n",
      "Requirement already satisfied: mypy-extensions>=0.3.0 in /root/aiprojects/rag_demo/.venv/lib/python3.10/site-packages (from typing-inspect<1,>=0.4.0->dataclasses-json<0.7,>=0.5.7->langchain) (1.0.0)\n",
      "Requirement already satisfied: transformers in /root/aiprojects/rag_demo/.venv/lib/python3.10/site-packages (4.40.2)\n",
      "Requirement already satisfied: filelock in /root/aiprojects/rag_demo/.venv/lib/python3.10/site-packages (from transformers) (3.14.0)\n",
      "Requirement already satisfied: huggingface-hub<1.0,>=0.19.3 in /root/aiprojects/rag_demo/.venv/lib/python3.10/site-packages (from transformers) (0.23.0)\n",
      "Requirement already satisfied: numpy>=1.17 in /root/aiprojects/rag_demo/.venv/lib/python3.10/site-packages (from transformers) (1.26.4)\n",
      "Requirement already satisfied: packaging>=20.0 in /root/aiprojects/rag_demo/.venv/lib/python3.10/site-packages (from transformers) (23.2)\n",
      "Requirement already satisfied: pyyaml>=5.1 in /root/aiprojects/rag_demo/.venv/lib/python3.10/site-packages (from transformers) (6.0.1)\n",
      "Requirement already satisfied: regex!=2019.12.17 in /root/aiprojects/rag_demo/.venv/lib/python3.10/site-packages (from transformers) (2024.5.10)\n",
      "Requirement already satisfied: requests in /root/aiprojects/rag_demo/.venv/lib/python3.10/site-packages (from transformers) (2.31.0)\n",
      "Requirement already satisfied: tokenizers<0.20,>=0.19 in /root/aiprojects/rag_demo/.venv/lib/python3.10/site-packages (from transformers) (0.19.1)\n",
      "Requirement already satisfied: safetensors>=0.4.1 in /root/aiprojects/rag_demo/.venv/lib/python3.10/site-packages (from transformers) (0.4.3)\n",
      "Requirement already satisfied: tqdm>=4.27 in /root/aiprojects/rag_demo/.venv/lib/python3.10/site-packages (from transformers) (4.66.4)\n",
      "Requirement already satisfied: fsspec>=2023.5.0 in /root/aiprojects/rag_demo/.venv/lib/python3.10/site-packages (from huggingface-hub<1.0,>=0.19.3->transformers) (2024.3.1)\n",
      "Requirement already satisfied: typing-extensions>=3.7.4.3 in /root/aiprojects/rag_demo/.venv/lib/python3.10/site-packages (from huggingface-hub<1.0,>=0.19.3->transformers) (4.11.0)\n",
      "Requirement already satisfied: charset-normalizer<4,>=2 in /root/aiprojects/rag_demo/.venv/lib/python3.10/site-packages (from requests->transformers) (3.3.2)\n",
      "Requirement already satisfied: idna<4,>=2.5 in /root/aiprojects/rag_demo/.venv/lib/python3.10/site-packages (from requests->transformers) (3.7)\n",
      "Requirement already satisfied: urllib3<3,>=1.21.1 in /root/aiprojects/rag_demo/.venv/lib/python3.10/site-packages (from requests->transformers) (2.2.1)\n",
      "Requirement already satisfied: certifi>=2017.4.17 in /root/aiprojects/rag_demo/.venv/lib/python3.10/site-packages (from requests->transformers) (2024.2.2)\n",
      "Requirement already satisfied: unstructured in /root/aiprojects/rag_demo/.venv/lib/python3.10/site-packages (0.13.7)\n",
      "Requirement already satisfied: chardet in /root/aiprojects/rag_demo/.venv/lib/python3.10/site-packages (from unstructured) (5.2.0)\n",
      "Requirement already satisfied: filetype in /root/aiprojects/rag_demo/.venv/lib/python3.10/site-packages (from unstructured) (1.2.0)\n",
      "Requirement already satisfied: python-magic in /root/aiprojects/rag_demo/.venv/lib/python3.10/site-packages (from unstructured) (0.4.27)\n",
      "Requirement already satisfied: lxml in /root/aiprojects/rag_demo/.venv/lib/python3.10/site-packages (from unstructured) (5.2.1)\n",
      "Requirement already satisfied: nltk in /root/aiprojects/rag_demo/.venv/lib/python3.10/site-packages (from unstructured) (3.8.1)\n",
      "Requirement already satisfied: tabulate in /root/aiprojects/rag_demo/.venv/lib/python3.10/site-packages (from unstructured) (0.9.0)\n",
      "Requirement already satisfied: requests in /root/aiprojects/rag_demo/.venv/lib/python3.10/site-packages (from unstructured) (2.31.0)\n",
      "Requirement already satisfied: beautifulsoup4 in /root/aiprojects/rag_demo/.venv/lib/python3.10/site-packages (from unstructured) (4.12.3)\n",
      "Requirement already satisfied: emoji in /root/aiprojects/rag_demo/.venv/lib/python3.10/site-packages (from unstructured) (2.11.1)\n",
      "Requirement already satisfied: dataclasses-json in /root/aiprojects/rag_demo/.venv/lib/python3.10/site-packages (from unstructured) (0.6.5)\n",
      "Requirement already satisfied: python-iso639 in /root/aiprojects/rag_demo/.venv/lib/python3.10/site-packages (from unstructured) (2024.4.27)\n",
      "Requirement already satisfied: langdetect in /root/aiprojects/rag_demo/.venv/lib/python3.10/site-packages (from unstructured) (1.0.9)\n",
      "Requirement already satisfied: numpy in /root/aiprojects/rag_demo/.venv/lib/python3.10/site-packages (from unstructured) (1.26.4)\n",
      "Requirement already satisfied: rapidfuzz in /root/aiprojects/rag_demo/.venv/lib/python3.10/site-packages (from unstructured) (3.9.0)\n",
      "Requirement already satisfied: backoff in /root/aiprojects/rag_demo/.venv/lib/python3.10/site-packages (from unstructured) (2.2.1)\n",
      "Requirement already satisfied: typing-extensions in /root/aiprojects/rag_demo/.venv/lib/python3.10/site-packages (from unstructured) (4.11.0)\n",
      "Requirement already satisfied: unstructured-client in /root/aiprojects/rag_demo/.venv/lib/python3.10/site-packages (from unstructured) (0.22.0)\n",
      "Requirement already satisfied: wrapt in /root/aiprojects/rag_demo/.venv/lib/python3.10/site-packages (from unstructured) (1.16.0)\n",
      "Requirement already satisfied: soupsieve>1.2 in /root/aiprojects/rag_demo/.venv/lib/python3.10/site-packages (from beautifulsoup4->unstructured) (2.5)\n",
      "Requirement already satisfied: marshmallow<4.0.0,>=3.18.0 in /root/aiprojects/rag_demo/.venv/lib/python3.10/site-packages (from dataclasses-json->unstructured) (3.21.2)\n",
      "Requirement already satisfied: typing-inspect<1,>=0.4.0 in /root/aiprojects/rag_demo/.venv/lib/python3.10/site-packages (from dataclasses-json->unstructured) (0.9.0)\n",
      "Requirement already satisfied: six in /root/aiprojects/rag_demo/.venv/lib/python3.10/site-packages (from langdetect->unstructured) (1.16.0)\n",
      "Requirement already satisfied: click in /root/aiprojects/rag_demo/.venv/lib/python3.10/site-packages (from nltk->unstructured) (8.1.7)\n",
      "Requirement already satisfied: joblib in /root/aiprojects/rag_demo/.venv/lib/python3.10/site-packages (from nltk->unstructured) (1.4.2)\n",
      "Requirement already satisfied: regex>=2021.8.3 in /root/aiprojects/rag_demo/.venv/lib/python3.10/site-packages (from nltk->unstructured) (2024.5.10)\n",
      "Requirement already satisfied: tqdm in /root/aiprojects/rag_demo/.venv/lib/python3.10/site-packages (from nltk->unstructured) (4.66.4)\n",
      "Requirement already satisfied: charset-normalizer<4,>=2 in /root/aiprojects/rag_demo/.venv/lib/python3.10/site-packages (from requests->unstructured) (3.3.2)\n",
      "Requirement already satisfied: idna<4,>=2.5 in /root/aiprojects/rag_demo/.venv/lib/python3.10/site-packages (from requests->unstructured) (3.7)\n",
      "Requirement already satisfied: urllib3<3,>=1.21.1 in /root/aiprojects/rag_demo/.venv/lib/python3.10/site-packages (from requests->unstructured) (2.2.1)\n",
      "Requirement already satisfied: certifi>=2017.4.17 in /root/aiprojects/rag_demo/.venv/lib/python3.10/site-packages (from requests->unstructured) (2024.2.2)\n",
      "Requirement already satisfied: deepdiff>=6.0 in /root/aiprojects/rag_demo/.venv/lib/python3.10/site-packages (from unstructured-client->unstructured) (7.0.1)\n",
      "Requirement already satisfied: jsonpath-python>=1.0.6 in /root/aiprojects/rag_demo/.venv/lib/python3.10/site-packages (from unstructured-client->unstructured) (1.0.6)\n",
      "Requirement already satisfied: mypy-extensions>=1.0.0 in /root/aiprojects/rag_demo/.venv/lib/python3.10/site-packages (from unstructured-client->unstructured) (1.0.0)\n",
      "Requirement already satisfied: packaging>=23.1 in /root/aiprojects/rag_demo/.venv/lib/python3.10/site-packages (from unstructured-client->unstructured) (23.2)\n",
      "Requirement already satisfied: pypdf>=4.0 in /root/aiprojects/rag_demo/.venv/lib/python3.10/site-packages (from unstructured-client->unstructured) (4.2.0)\n",
      "Requirement already satisfied: python-dateutil>=2.8.2 in /root/aiprojects/rag_demo/.venv/lib/python3.10/site-packages (from unstructured-client->unstructured) (2.9.0.post0)\n",
      "Requirement already satisfied: ordered-set<4.2.0,>=4.1.0 in /root/aiprojects/rag_demo/.venv/lib/python3.10/site-packages (from deepdiff>=6.0->unstructured-client->unstructured) (4.1.0)\n",
      "Requirement already satisfied: markdown in /root/aiprojects/rag_demo/.venv/lib/python3.10/site-packages (3.6)\n"
     ]
    }
   ],
   "source": [
    "import os\n",
    "os.environ[\"http_proxy\"] = \"http://127.0.0.1:1083\"\n",
    "os.environ[\"https_proxy\"] = \"http://127.0.0.1:1083\"\n",
    "\n",
    "! pip install langchain_community\n",
    "! pip install langchain\n",
    "! pip install transformers\n",
    "! pip install unstructured\n",
    "! pip install markdown\n",
    "! pip install markdownify\n",
    "! pip install sentence-transformers\n",
    "! pip install clickhouse-connect\n",
    "! pip install -U langchain_qdrant"
   ]
  },
  {
   "cell_type": "markdown",
   "metadata": {},
   "source": [
    "## 查看目录中文档的最大长度"
   ]
  },
  {
   "cell_type": "code",
   "execution_count": null,
   "metadata": {},
   "outputs": [],
   "source": [
    "import os\n",
    "\n",
    "root_dir = \"/root/jd_docs\"\n",
    "size = 0\n",
    "for root, dirs, files in os.walk(root_dir, followlinks=False):\n",
    "    for file in files:\n",
    "        path = os.path.join(root, file)\n",
    "        if os.path.getsize(path) > size:\n",
    "            size = os.path.getsize(path)\n",
    "size"
   ]
  },
  {
   "cell_type": "markdown",
   "metadata": {},
   "source": [
    "## 查看目录中json content字段最大长度"
   ]
  },
  {
   "cell_type": "code",
   "execution_count": null,
   "metadata": {},
   "outputs": [],
   "source": [
    "import os\n",
    "import json\n",
    "\n",
    "root_dir = \"/root/jd_docs\"\n",
    "size = 0\n",
    "for root, dirs, files in os.walk(root_dir, followlinks=False):\n",
    "    for file in files:\n",
    "        path = os.path.join(root, file)\n",
    "        with open(path, 'r') as docfile:\n",
    "            doc_data = json.load(docfile)\n",
    "            if size < len(doc_data[\"content\"]):\n",
    "                print(type(doc_data[\"content\"]))\n",
    "                size = len(doc_data[\"content\"])\n",
    "\n",
    "size"
   ]
  },
  {
   "cell_type": "markdown",
   "metadata": {},
   "source": [
    "## 去标签实验"
   ]
  },
  {
   "cell_type": "code",
   "execution_count": null,
   "metadata": {},
   "outputs": [],
   "source": [
    "from markdownify import markdownify as md\n",
    "import re\n",
    "\n",
    "\n",
    "def is_html(content):\n",
    "    # content = content.read(15)  # 读取文件开头的15个字节\n",
    "    if content.startswith('<'):\n",
    "        return True\n",
    "    else:\n",
    "        return False\n",
    "\n",
    "\n",
    "def replace_unicode(match):\n",
    "    code_point = int(match.group(1), 16)\n",
    "    return chr(code_point)\n",
    "\n",
    "\n",
    "# f = open(\"/root/jd_docs/account-assets/withdrawal.md\")\n",
    "f = open(\"/root/jd_docs/application-load-balancer/TLSSecurityPolicy-management.md\")\n",
    "lines = f.read()\n",
    "\n",
    "\n",
    "# 替换unicode字符为标签\n",
    "result = re.sub(r\"\\\\[uU]([0-9a-fA-F]{4})\", replace_unicode, lines)\n",
    "\n",
    "\n",
    "# 如果为html 格式，转换为markdown\n",
    "if is_html(result):\n",
    "    result = md(result)\n",
    "    print(result)\n",
    "\n",
    "# 去html标签\n",
    "pattern = re.compile(r'<[^>]+>', re.S)\n",
    "result = pattern.sub(' ', result)\n",
    "\n",
    "print(result.replace('\\\\t', '').replace('\\\\n', ''))\n",
    "f.close()"
   ]
  },
  {
   "cell_type": "markdown",
   "metadata": {},
   "source": [
    "## 文本转markdown"
   ]
  },
  {
   "cell_type": "code",
   "execution_count": null,
   "metadata": {},
   "outputs": [],
   "source": [
    "from markdownify import markdownify\n",
    "\n",
    "markdownify(\"要对 MySQL 进行性能测试，可以按照以下步骤进行：1. **准备环境**：   - 安装必要的工具，如 `sysbench`，用于执行性能测试。   - 创建云数据库实例，如华北-北京可用区A的 MySQL 5.7 服务器。   - 选择合适的云主机规格和镜像，如 8C 32GB 的 CentOS 7.4 64位。   - 为数据库实例创建一个名为 `sbtest` 的库，并为创建的账号授予新建库的读写权限。   - 使用 `sysbench` 创建一个包含表结构、数据格式和 SQL 样式的测试样本。2. **测试环境设置**：   - 在 `sysbench` 中，设置数据库实例的参数，如最大连接数（最大 IOPS）、表大小、数据库驱动、MySQL 服务器地址、用户名、密码等。   - 设置测试用例的参数，如表结构、数据量大小、客户端数量、查询类型（如 get、set、lpush、mset 等）、查询时间（如 1800 秒）和并发数（如 32 个线程）。3. **性能压测**：   - 使用 `sysbench` 创建一个包含表结构、数据格式和 SQL 样式的测试样本，并设置测试参数。   - 使用 `sysbench` 进行性能压测，包括查询、更新和删除操作，以生成数据负载并进行压力测试。   - 使用 `sysbench` 输出查询时间、并发数、TPS 和 QPS 的统计信息，以评估数据库性能。4. **环境清理**：   - 清理测试环境，包括删除测试样本、关闭数据库实例、删除 Redis 服务器等。5. **性能指标测试**：   - 使用 `redis-benchmark` 测试 Redis 性能，包括获取、设置、LPush、MSet（10 keys）、SADD 等操作的性能指标。   - 根据测试结果，评估 Redis 性能瓶颈，如查询时间、并发数、TPS 和 QPS 的瓶颈，以及数据库性能瓶颈。通过以上步骤，可以对 MySQL 进行性能测试，评估其在高并发、大量数据和复杂查询场景下的性能表现，为优化 MySQL 服务器配置和性能优化提供参考。\")"
   ]
  },
  {
   "cell_type": "markdown",
   "metadata": {},
   "source": [
    "## 文本分割，拆分为定长文本\n"
   ]
  },
  {
   "cell_type": "code",
   "execution_count": null,
   "metadata": {},
   "outputs": [],
   "source": [
    "from langchain.text_splitter import CharacterTextSplitter\n",
    "from langchain_community.document_loaders import UnstructuredMarkdownLoader\n",
    "from langchain.document_loaders import TextLoader\n",
    "from langchain_community.document_loaders import DirectoryLoader\n",
    "import os\n",
    "os.environ[\"http_proxy\"] = \"http://127.0.0.1:1083\"\n",
    "os.environ[\"https_proxy\"] = \"http://127.0.0.1:1083\"\n",
    "\n",
    "root_dir = \"/root/jd_docs\"\n",
    "\n",
    "loader = DirectoryLoader(\n",
    "    '/root/jd_docs', glob=\"**/*.json\", loader_cls=TextLoader)\n",
    "docs = loader.load()\n",
    "\n",
    "for doc in docs[0:2]:\n",
    "    print(doc)"
   ]
  },
  {
   "cell_type": "markdown",
   "metadata": {},
   "source": [
    "## 解析自定义json到docs"
   ]
  },
  {
   "cell_type": "code",
   "execution_count": null,
   "metadata": {},
   "outputs": [],
   "source": [
    "# 加载自定义模块路径\n",
    "import sys\n",
    "sys.path.append(\"..\")"
   ]
  },
  {
   "cell_type": "code",
   "execution_count": null,
   "metadata": {},
   "outputs": [],
   "source": [
    "from libs.jd_doc_json_loader import JD_DOC_Loader\n",
    "from langchain.text_splitter import CharacterTextSplitter\n",
    "from langchain_community.document_loaders import UnstructuredMarkdownLoader\n",
    "from langchain_community.document_loaders import DirectoryLoader\n",
    "\n",
    "\n",
    "root_dir = \"/root/jd_docs\"\n",
    "loader = DirectoryLoader(\n",
    "    '/root/jd_docs', glob=\"**/*.json\", loader_cls=JD_DOC_Loader)\n",
    "docs = loader.load()\n",
    "print(docs[0:2])\n",
    "# for doc in docs[0:3]:\n",
    "#     print(doc)"
   ]
  },
  {
   "cell_type": "markdown",
   "metadata": {},
   "source": [
    "## 存入clickhouse向量数据库"
   ]
  },
  {
   "cell_type": "code",
   "execution_count": null,
   "metadata": {},
   "outputs": [],
   "source": [
    "import langchain_community.vectorstores.clickhouse as clickhouse\n",
    "from langchain.embeddings import HuggingFaceEmbeddings\n",
    "import os\n",
    "os.environ[\"http_proxy\"] = \"http://127.0.0.1:1083\"\n",
    "os.environ[\"https_proxy\"] = \"http://127.0.0.1:1083\"\n",
    "model_kwargs = {\"device\": \"cuda\"}\n",
    "embeddings = HuggingFaceEmbeddings(\n",
    "    model_name=\"/root/models/moka-ai-m3e-large\", model_kwargs=model_kwargs)\n",
    "\n",
    "# settings = clickhouse.ClickhouseSettings(\n",
    "#     table=\"jd_docs_m3e\", username=\"default\", password=\"Git785230\", host=\"10.0.1.94\")\n",
    "\n",
    "settings = clickhouse.ClickhouseSettings(\n",
    "    table=\"jd_docs_m3e_with_url\", username=\"default\", password=\"Git785230\", host=\"10.0.1.94\")\n",
    "\n",
    "docsearch = clickhouse.Clickhouse.from_documents(\n",
    "    docs, embeddings, config=settings)"
   ]
  },
  {
   "cell_type": "markdown",
   "metadata": {},
   "source": [
    "## 验证ck向量库"
   ]
  },
  {
   "cell_type": "code",
   "execution_count": null,
   "metadata": {},
   "outputs": [],
   "source": [
    "import langchain_community.vectorstores.clickhouse as clickhouse\n",
    "from langchain.embeddings import HuggingFaceEmbeddings\n",
    "\n",
    "model_kwargs = {\"device\": \"cuda\"}\n",
    "embeddings = HuggingFaceEmbeddings(\n",
    "    model_name=\"/root/models/moka-ai-m3e-large\", model_kwargs=model_kwargs)\n",
    "\n",
    "settings = clickhouse.ClickhouseSettings(\n",
    "    table=\"jd_docs_m3e_with_url\", username=\"default\", password=\"Git785230\", host=\"10.0.1.94\")\n",
    "ck_db = clickhouse.Clickhouse(embeddings, config=settings)\n",
    "ck_db._build_query_sql\n",
    "ck_retriever = ck_db.as_retriever(\n",
    "    search_type=\"similarity_score_threshold\", search_kwargs={'score_threshold': 0.9})\n",
    "ck_retriever.get_relevant_documents(\"阿里云好不好\")"
   ]
  },
  {
   "cell_type": "code",
   "execution_count": null,
   "metadata": {},
   "outputs": [],
   "source": [
    "from langchain.embeddings import HuggingFaceEmbeddings\n",
    "import clickhouse_connect\n",
    "\n",
    "model_kwargs = {\"device\": \"cuda\"}\n",
    "embeddings = HuggingFaceEmbeddings(\n",
    "    model_name=\"/root/models/moka-ai-m3e-large\", model_kwargs=model_kwargs)\n",
    "# v = embeddings.embed_query(\"如何创建对象存储的bucket\")\n",
    "# v = embeddings.embed_query(\"Massive 此文本嵌入模型通过**千万级**的中文句对数据集进行训练\")\n",
    "v = embeddings.embed_query(\"对象存储api如何使用\")\n",
    "q_emb_str = \",\".join(map(str, v))\n",
    "\n",
    "client = clickhouse_connect.get_client(\n",
    "    host='10.0.1.94', username='default', password='Git785230')\n",
    "q_str = f\"\"\"\n",
    "        SELECT document,metadata,dist\n",
    "        FROM default.jd_docs_m3e_with_url where dist < 20\n",
    "         ORDER BY cosineDistance(embedding, [{q_emb_str}])\n",
    "            AS dist \n",
    "        LIMIT 3 \n",
    "        \"\"\"\n",
    "# q_str = f\"\"\"\n",
    "#         SELECT document\n",
    "#            metadata dist\n",
    "#         FROM default.jd_docs_m3e_with_url\n",
    "#          ORDER BY L2Distance(embedding, [{q_emb_str}])\n",
    "#             AS dist {self.dist_order}\n",
    "#         LIMIT {topk} {' '.join(settings_strs)}\n",
    "#         \"\"\"\n",
    "\n",
    "r = client.query(q_str)\n",
    "\n",
    "for row in r.result_rows:\n",
    "    (doc, meta, dist) = row\n",
    "    print(dist)"
   ]
  },
  {
   "cell_type": "markdown",
   "metadata": {},
   "source": [
    "## 使用qdrant向量库"
   ]
  },
  {
   "cell_type": "code",
   "execution_count": null,
   "metadata": {},
   "outputs": [],
   "source": [
    "from langchain_qdrant import Qdrant\n",
    "from langchain.embeddings import HuggingFaceEmbeddings\n",
    "model_kwargs = {\"device\": \"cuda\"}\n",
    "embeddings = HuggingFaceEmbeddings(\n",
    "    model_name=\"/root/models/moka-ai-m3e-large\", model_kwargs=model_kwargs)\n",
    "\n",
    "url = \"http://10.0.1.94:6333\"\n",
    "qdrant = Qdrant.from_documents(\n",
    "    docs,\n",
    "    embeddings,\n",
    "    url=url,\n",
    "    prefer_grpc=True,\n",
    "    collection_name=\"my_documents\",\n",
    ")"
   ]
  },
  {
   "cell_type": "code",
   "execution_count": 10,
   "metadata": {},
   "outputs": [
    {
     "name": "stderr",
     "output_type": "stream",
     "text": [
      "No sentence-transformers model found with name /root/models/moka-ai-m3e-large. Creating a new one with MEAN pooling.\n"
     ]
    },
    {
     "ename": "TypeError",
     "evalue": "Qdrant.from_existing_collection() missing 1 required positional argument: 'path'",
     "output_type": "error",
     "traceback": [
      "\u001b[0;31m---------------------------------------------------------------------------\u001b[0m",
      "\u001b[0;31mTypeError\u001b[0m                                 Traceback (most recent call last)",
      "Cell \u001b[0;32mIn[10], line 12\u001b[0m\n\u001b[1;32m      6\u001b[0m embeddings \u001b[38;5;241m=\u001b[39m HuggingFaceEmbeddings(\n\u001b[1;32m      7\u001b[0m     model_name\u001b[38;5;241m=\u001b[39m\u001b[38;5;124m\"\u001b[39m\u001b[38;5;124m/root/models/moka-ai-m3e-large\u001b[39m\u001b[38;5;124m\"\u001b[39m, model_kwargs\u001b[38;5;241m=\u001b[39mmodel_kwargs)\n\u001b[1;32m     10\u001b[0m url \u001b[38;5;241m=\u001b[39m \u001b[38;5;124m\"\u001b[39m\u001b[38;5;124mhttp://10.0.1.94:6333\u001b[39m\u001b[38;5;124m\"\u001b[39m\n\u001b[0;32m---> 12\u001b[0m qdrant \u001b[38;5;241m=\u001b[39m \u001b[43mQdrant\u001b[49m\u001b[38;5;241;43m.\u001b[39;49m\u001b[43mfrom_existing_collection\u001b[49m\u001b[43m(\u001b[49m\n\u001b[1;32m     13\u001b[0m \u001b[43m    \u001b[49m\u001b[43membedding\u001b[49m\u001b[38;5;241;43m=\u001b[39;49m\u001b[43membeddings\u001b[49m\u001b[43m,\u001b[49m\n\u001b[1;32m     14\u001b[0m \u001b[43m    \u001b[49m\u001b[43mcollection_name\u001b[49m\u001b[38;5;241;43m=\u001b[39;49m\u001b[38;5;124;43m\"\u001b[39;49m\u001b[38;5;124;43mmy_documents\u001b[39;49m\u001b[38;5;124;43m\"\u001b[39;49m\u001b[43m,\u001b[49m\n\u001b[1;32m     15\u001b[0m \u001b[43m    \u001b[49m\u001b[43murl\u001b[49m\u001b[38;5;241;43m=\u001b[39;49m\u001b[38;5;124;43m\"\u001b[39;49m\u001b[38;5;124;43mhttp://10.0.1.94:6333\u001b[39;49m\u001b[38;5;124;43m\"\u001b[39;49m\u001b[43m,\u001b[49m\n\u001b[1;32m     16\u001b[0m \u001b[43m)\u001b[49m\n",
      "\u001b[0;31mTypeError\u001b[0m: Qdrant.from_existing_collection() missing 1 required positional argument: 'path'"
     ]
    }
   ],
   "source": [
    "from typing import List\n",
    "from langchain_qdrant import Qdrant\n",
    "from langchain.embeddings import HuggingFaceEmbeddings\n",
    "\n",
    "model_kwargs = {\"device\": \"cuda\"}\n",
    "embeddings = HuggingFaceEmbeddings(\n",
    "    model_name=\"/root/models/moka-ai-m3e-large\", model_kwargs=model_kwargs)\n",
    "\n",
    "\n",
    "url = \"http://10.0.1.94:6333\"\n",
    "\n",
    "qdrant = Qdrant.from_existing_collection(\n",
    "    embedding=embeddings,\n",
    "    collection_name=\"my_documents\",\n",
    "    url=\"http://10.0.1.94:6333\",\n",
    ")"
   ]
  }
 ],
 "metadata": {
  "kernelspec": {
   "display_name": ".venv",
   "language": "python",
   "name": "python3"
  },
  "language_info": {
   "codemirror_mode": {
    "name": "ipython",
    "version": 3
   },
   "file_extension": ".py",
   "mimetype": "text/x-python",
   "name": "python",
   "nbconvert_exporter": "python",
   "pygments_lexer": "ipython3",
   "version": "3.10.12"
  }
 },
 "nbformat": 4,
 "nbformat_minor": 2
}
