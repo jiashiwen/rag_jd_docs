{
 "cells": [
  {
   "cell_type": "markdown",
   "metadata": {},
   "source": [
    "# 数据处理"
   ]
  },
  {
   "cell_type": "code",
   "execution_count": null,
   "metadata": {},
   "outputs": [],
   "source": [
    "import os\n",
    "os.environ[\"http_proxy\"] = \"http://127.0.0.1:1083\"\n",
    "os.environ[\"https_proxy\"] = \"http://127.0.0.1:1083\"\n",
    "\n",
    "! pip install langchain_community\n",
    "! pip install langchain\n",
    "! pip install transformers\n",
    "! pip install unstructured\n",
    "! pip install markdown\n",
    "! pip install markdownify\n",
    "! pip install sentence-transformers\n",
    "! pip install clickhouse-connect"
   ]
  },
  {
   "cell_type": "markdown",
   "metadata": {},
   "source": [
    "## 查看目录中文档的最大长度"
   ]
  },
  {
   "cell_type": "code",
   "execution_count": null,
   "metadata": {},
   "outputs": [],
   "source": [
    "import os\n",
    "\n",
    "root_dir = \"/root/jd_docs\"\n",
    "size = 0\n",
    "for root, dirs, files in os.walk(root_dir, followlinks=False):\n",
    "    for file in files:\n",
    "        path = os.path.join(root, file)\n",
    "        if os.path.getsize(path) > size:\n",
    "            size = os.path.getsize(path)\n",
    "size"
   ]
  },
  {
   "cell_type": "markdown",
   "metadata": {},
   "source": [
    "## 去标签实验"
   ]
  },
  {
   "cell_type": "code",
   "execution_count": null,
   "metadata": {},
   "outputs": [],
   "source": [
    "from markdownify import markdownify as md\n",
    "import re\n",
    "\n",
    "\n",
    "def is_html(content):\n",
    "    # content = content.read(15)  # 读取文件开头的15个字节\n",
    "    if content.startswith('<'):\n",
    "        return True\n",
    "    else:\n",
    "        return False\n",
    "\n",
    "\n",
    "def replace_unicode(match):\n",
    "    code_point = int(match.group(1), 16)\n",
    "    return chr(code_point)\n",
    "\n",
    "\n",
    "# f = open(\"/root/jd_docs/account-assets/withdrawal.md\")\n",
    "f = open(\"/root/jd_docs/application-load-balancer/TLSSecurityPolicy-management.md\")\n",
    "lines = f.read()\n",
    "\n",
    "\n",
    "# 替换unicode字符为标签\n",
    "result = re.sub(r\"\\\\[uU]([0-9a-fA-F]{4})\", replace_unicode, lines)\n",
    "\n",
    "\n",
    "# 如果为html 格式，转换为markdown\n",
    "if is_html(result):\n",
    "    result = md(result)\n",
    "    print(result)\n",
    "\n",
    "# 去html标签\n",
    "pattern = re.compile(r'<[^>]+>', re.S)\n",
    "result = pattern.sub(' ', result)\n",
    "\n",
    "print(result.replace('\\\\t', '').replace('\\\\n', ''))\n",
    "f.close()"
   ]
  },
  {
   "cell_type": "markdown",
   "metadata": {},
   "source": [
    "## 文本分割，拆分为定长文本\n"
   ]
  },
  {
   "cell_type": "code",
   "execution_count": null,
   "metadata": {},
   "outputs": [],
   "source": [
    "from langchain.text_splitter import CharacterTextSplitter\n",
    "from langchain_community.document_loaders import UnstructuredMarkdownLoader\n",
    "from langchain.document_loaders import TextLoader\n",
    "from langchain_community.document_loaders import DirectoryLoader\n",
    "import os\n",
    "os.environ[\"http_proxy\"] = \"http://127.0.0.1:1083\"\n",
    "os.environ[\"https_proxy\"] = \"http://127.0.0.1:1083\"\n",
    "\n",
    "root_dir = \"/root/jd_docs\"\n",
    "# for root, dirs, files in os.walk(root_dir, followlinks=False):\n",
    "#     for file in files:\n",
    "#         path = os.path.join(root, file)\n",
    "#         loader = UnstructuredMarkdownLoader(path)\n",
    "#         data = loader.load()\n",
    "#         print(data)\n",
    "\n",
    "\n",
    "loader = DirectoryLoader(\n",
    "    '/root/jd_docs', glob=\"**/*.md\", loader_cls=TextLoader)\n",
    "docs = loader.load()\n",
    "\n",
    "# splitter = CharacterTextSplitter(chunk_size=512, chunk_overlap=50)\n",
    "# chunked_docs = splitter.split_documents(docs)"
   ]
  },
  {
   "cell_type": "markdown",
   "metadata": {},
   "source": [
    "## 存入向量数据库"
   ]
  },
  {
   "cell_type": "code",
   "execution_count": null,
   "metadata": {},
   "outputs": [],
   "source": [
    "import langchain_community.vectorstores.clickhouse as clickhouse\n",
    "from langchain.embeddings import HuggingFaceEmbeddings\n",
    "import os\n",
    "os.environ[\"http_proxy\"] = \"http://127.0.0.1:1083\"\n",
    "os.environ[\"https_proxy\"] = \"http://127.0.0.1:1083\"\n",
    "model_kwargs = {\"device\": \"cuda\"}\n",
    "embeddings = HuggingFaceEmbeddings(\n",
    "    model_name=\"moka-ai/m3e-large\", model_kwargs=model_kwargs)\n",
    "\n",
    "settings = clickhouse.ClickhouseSettings(\n",
    "    table=\"jd_docs_m3e\", username=\"default\", password=\"Git785230\", host=\"10.0.1.94\")\n",
    "docsearch = clickhouse.Clickhouse.from_documents(\n",
    "    docs, embeddings, config=settings)"
   ]
  }
 ],
 "metadata": {
  "kernelspec": {
   "display_name": ".venv",
   "language": "python",
   "name": "python3"
  },
  "language_info": {
   "codemirror_mode": {
    "name": "ipython",
    "version": 3
   },
   "file_extension": ".py",
   "mimetype": "text/x-python",
   "name": "python",
   "nbconvert_exporter": "python",
   "pygments_lexer": "ipython3",
   "version": "3.10.12"
  }
 },
 "nbformat": 4,
 "nbformat_minor": 2
}
